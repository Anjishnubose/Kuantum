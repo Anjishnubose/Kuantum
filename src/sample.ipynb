{
 "cells": [
  {
   "cell_type": "code",
   "execution_count": 2,
   "metadata": {},
   "outputs": [],
   "source": [
    "import pennylane as qml\n",
    "import pennylane.numpy as np\n",
    "import matplotlib.pyplot as plt\n",
    "import yaml as yml"
   ]
  },
  {
   "cell_type": "code",
   "execution_count": 9,
   "metadata": {},
   "outputs": [],
   "source": [
    "input_file = 'C:/Users/anjis/Documents/Kuantum/inputs/input.yaml'\n",
    "with open(input_file, 'r') as file:\n",
    "    inputs = yml.safe_load(file)"
   ]
  },
  {
   "cell_type": "code",
   "execution_count": 10,
   "metadata": {},
   "outputs": [
    {
     "data": {
      "text/plain": [
       "{'sampling k': {'num_sample': 10000,\n",
       "  'num_thermalization': 10000,\n",
       "  'beta': 1000000,\n",
       "  'max_k': 1000},\n",
       " 'sampling Unitaries': {'num_thermalization': 10000},\n",
       " 'binary search': {'delta': 0.001, 'eta': 0.5, 'certification': 'mv'},\n",
       " 'hamiltonian': {'file': 'C:/Users/anjis/Documents/Kuantum/hamiltonians/H2.pkl',\n",
       "  'norm_bound': 0.5,\n",
       "  'error_tolerance': 0.01}}"
      ]
     },
     "execution_count": 10,
     "metadata": {},
     "output_type": "execute_result"
    }
   ],
   "source": [
    "inputs"
   ]
  },
  {
   "cell_type": "code",
   "execution_count": 7,
   "metadata": {},
   "outputs": [],
   "source": [
    "import PhaseEstimation as pe"
   ]
  },
  {
   "cell_type": "code",
   "execution_count": 11,
   "metadata": {},
   "outputs": [
    {
     "name": "stdout",
     "output_type": "stream",
     "text": [
      "Loaded Hamiltonian at C:/Users/anjis/Documents/Kuantum/hamiltonians/H2.pkl, yayy!\n",
      "Running Metropolis algorithm for 10000 samples starting at k=27.\n",
      "Sampling ks finished with acceptance rate: 0.4766.\n",
      "Running Metropolis algorithm for 4.905563552897813 samples starting at n = 8.\n"
     ]
    },
    {
     "ename": "TypeError",
     "evalue": "only integer scalar arrays can be converted to a scalar index",
     "output_type": "error",
     "traceback": [
      "\u001b[1;31m---------------------------------------------------------------------------\u001b[0m",
      "\u001b[1;31mTypeError\u001b[0m                                 Traceback (most recent call last)",
      "\u001b[1;32m~\\AppData\\Local\\Temp\\ipykernel_19684\\4002560453.py\u001b[0m in \u001b[0;36m<module>\u001b[1;34m\u001b[0m\n\u001b[1;32m----> 1\u001b[1;33m \u001b[0moutput\u001b[0m  \u001b[1;33m=\u001b[0m \u001b[0mpe\u001b[0m\u001b[1;33m.\u001b[0m\u001b[0mStatisticalPhaseEstimation\u001b[0m\u001b[1;33m(\u001b[0m\u001b[0minputs\u001b[0m\u001b[1;33m)\u001b[0m\u001b[1;33m\u001b[0m\u001b[1;33m\u001b[0m\u001b[0m\n\u001b[0m",
      "\u001b[1;32mc:\\Users\\anjis\\Documents\\Kuantum\\src\\PhaseEstimation.py\u001b[0m in \u001b[0;36mStatisticalPhaseEstimation\u001b[1;34m(inputs, to_save, save_path, to_plot, plot_path)\u001b[0m\n\u001b[0;32m     39\u001b[0m             \u001b[1;31m##### LCU sampling to get a list of l-values for each k.\u001b[0m\u001b[1;33m\u001b[0m\u001b[1;33m\u001b[0m\u001b[0m\n\u001b[0;32m     40\u001b[0m             \u001b[1;31m##### Each l-value correspond to a Pauli word in the decomposition of the Hamiltonian.\u001b[0m\u001b[1;33m\u001b[0m\u001b[1;33m\u001b[0m\u001b[0m\n\u001b[1;32m---> 41\u001b[1;33m             samples_n, samples_l = LCU(r_k, t_k, decomposition['coefficients'],\n\u001b[0m\u001b[0;32m     42\u001b[0m                                         inputs['sampling Unitaries']['num_thermalization'])\n\u001b[0;32m     43\u001b[0m             \u001b[1;31m##### Running the randomly sample LCU decomposition of the time evolution on a quantum circuit.\u001b[0m\u001b[1;33m\u001b[0m\u001b[1;33m\u001b[0m\u001b[0m\n",
      "\u001b[1;32mc:\\Users\\anjis\\Documents\\Kuantum\\src\\LCUSampling.py\u001b[0m in \u001b[0;36mLCU\u001b[1;34m(r, t, pls, N_thermalization, reduced_range, move_range, n_max)\u001b[0m\n\u001b[0;32m     57\u001b[0m     \u001b[0maccepted\u001b[0m \u001b[1;33m=\u001b[0m \u001b[1;36m0\u001b[0m\u001b[1;33m\u001b[0m\u001b[1;33m\u001b[0m\u001b[0m\n\u001b[0;32m     58\u001b[0m     \u001b[0mprint\u001b[0m\u001b[1;33m(\u001b[0m\u001b[1;34mf\"Running Metropolis algorithm for {r} samples starting at n = {current_n}.\"\u001b[0m\u001b[1;33m)\u001b[0m\u001b[1;33m\u001b[0m\u001b[1;33m\u001b[0m\u001b[0m\n\u001b[1;32m---> 59\u001b[1;33m     \u001b[1;32mfor\u001b[0m \u001b[0mstep\u001b[0m \u001b[1;32min\u001b[0m \u001b[0mrange\u001b[0m\u001b[1;33m(\u001b[0m\u001b[0mN_thermalization\u001b[0m\u001b[1;33m+\u001b[0m\u001b[0mr\u001b[0m\u001b[1;33m)\u001b[0m\u001b[1;33m:\u001b[0m\u001b[1;33m\u001b[0m\u001b[1;33m\u001b[0m\u001b[0m\n\u001b[0m\u001b[0;32m     60\u001b[0m         \u001b[1;31m##### propose a new state within move_range of the current state.\u001b[0m\u001b[1;33m\u001b[0m\u001b[1;33m\u001b[0m\u001b[0m\n\u001b[0;32m     61\u001b[0m         \u001b[0mnew_n\u001b[0m \u001b[1;33m=\u001b[0m \u001b[0mint\u001b[0m\u001b[1;33m(\u001b[0m\u001b[1;36m2\u001b[0m\u001b[1;33m*\u001b[0m\u001b[1;33m(\u001b[0m\u001b[0mcurrent_n\u001b[0m\u001b[1;33m/\u001b[0m\u001b[1;36m2\u001b[0m \u001b[1;33m+\u001b[0m \u001b[0mnp\u001b[0m\u001b[1;33m.\u001b[0m\u001b[0mrandom\u001b[0m\u001b[1;33m.\u001b[0m\u001b[0mrandint\u001b[0m\u001b[1;33m(\u001b[0m\u001b[1;33m-\u001b[0m\u001b[0mmin\u001b[0m\u001b[1;33m(\u001b[0m\u001b[0mcurrent_n\u001b[0m\u001b[1;33m/\u001b[0m\u001b[1;36m2\u001b[0m\u001b[1;33m-\u001b[0m\u001b[1;36m1\u001b[0m\u001b[1;33m,\u001b[0m \u001b[0mmove_range\u001b[0m\u001b[1;33m)\u001b[0m\u001b[1;33m,\u001b[0m \u001b[0mmin\u001b[0m\u001b[1;33m(\u001b[0m\u001b[0mn_max\u001b[0m\u001b[1;33m/\u001b[0m\u001b[1;36m2\u001b[0m\u001b[1;33m-\u001b[0m\u001b[0mcurrent_n\u001b[0m\u001b[1;33m/\u001b[0m\u001b[1;36m2\u001b[0m\u001b[1;33m,\u001b[0m \u001b[0mmove_range\u001b[0m\u001b[1;33m)\u001b[0m\u001b[1;33m)\u001b[0m\u001b[1;33m)\u001b[0m\u001b[1;33m)\u001b[0m\u001b[1;33m\u001b[0m\u001b[1;33m\u001b[0m\u001b[0m\n",
      "\u001b[1;31mTypeError\u001b[0m: only integer scalar arrays can be converted to a scalar index"
     ]
    }
   ],
   "source": [
    "output  = pe.StatisticalPhaseEstimation(inputs)"
   ]
  },
  {
   "cell_type": "code",
   "execution_count": 25,
   "metadata": {},
   "outputs": [
    {
     "name": "stdout",
     "output_type": "stream",
     "text": [
      "Running Metropolis algorithm for 10000 samples starting at 73.\n",
      "Step 0 of 10000.\n",
      "Step 1000 of 10000.\n",
      "Step 2000 of 10000.\n",
      "Step 3000 of 10000.\n",
      "Step 4000 of 10000.\n",
      "Step 5000 of 10000.\n",
      "Step 6000 of 10000.\n",
      "Step 7000 of 10000.\n",
      "Step 8000 of 10000.\n",
      "Step 9000 of 10000.\n",
      "Step 10000 of 10000.\n",
      "Step 11000 of 10000.\n",
      "Step 12000 of 10000.\n",
      "Step 13000 of 10000.\n",
      "Step 14000 of 10000.\n",
      "Step 15000 of 10000.\n",
      "Step 16000 of 10000.\n",
      "Step 17000 of 10000.\n",
      "Step 18000 of 10000.\n",
      "Step 19000 of 10000.\n",
      "Sampling done!\n"
     ]
    }
   ],
   "source": [
    "N_sample = 10_000\n",
    "N_thermalization = 10_000\n",
    "k_max = 1_001\n",
    "beta = 1E6\n",
    "    \n",
    "sample = Metropolis(N_thermalization, N_sample, k_max, beta)\n",
    "\n",
    "S = hv.normalization_constant(k_max, beta)\n",
    "print(\"Sampling done!\")"
   ]
  },
  {
   "cell_type": "code",
   "execution_count": 26,
   "metadata": {},
   "outputs": [
    {
     "name": "stdout",
     "output_type": "stream",
     "text": [
      "Quantum samples obtained\n"
     ]
    }
   ],
   "source": [
    "r_list, s_list, k_list = get_rs_lists(sample, hamiltonian=H, n_qubits=n_qubits, hf_list=hf_list, tau = get_tau(H))\n",
    "print(\"Quantum samples obtained\")"
   ]
  },
  {
   "cell_type": "code",
   "execution_count": 32,
   "metadata": {},
   "outputs": [
    {
     "name": "stdout",
     "output_type": "stream",
     "text": [
      "ACDF obtained\n"
     ]
    }
   ],
   "source": [
    "delta = 0.001\n",
    "eta = 0.4\n",
    "cdf = acdf(r_list, s_list, k_list, S)\n",
    "print(\"ACDF obtained\")"
   ]
  },
  {
   "cell_type": "code",
   "execution_count": 28,
   "metadata": {},
   "outputs": [
    {
     "data": {
      "image/png": "[encoded data removed]",
      "text/plain": [
       "<Figure size 432x288 with 1 Axes>"
      ]
     },
     "metadata": {
      "needs_background": "light"
     },
     "output_type": "display_data"
    }
   ],
   "source": [
    "xs = np.linspace(-np.pi, np.pi, 501)\n",
    "plt.plot(xs, [cdf(x) for x in xs])\n",
    "plt.show()"
   ]
  },
  {
   "cell_type": "code",
   "execution_count": 33,
   "metadata": {},
   "outputs": [
    {
     "name": "stdout",
     "output_type": "stream",
     "text": [
      "mv: 0\n",
      "mv: 1\n",
      "mv: 1\n",
      "mv: 1\n",
      "mv: 1\n",
      "mv: 1\n",
      "mv: 1\n",
      "mv: 1\n",
      "mv: 0\n",
      "mv: 1\n",
      "mv: 1\n",
      "mv: 0\n",
      "mv: 0\n",
      "mv: 1\n",
      "Ground state estimation = -0.0148\n"
     ]
    }
   ],
   "source": [
    "x = invert_cdf(r_list, s_list, k_list, delta, eta, S, certify_type='mv')\n",
    "print(\"Ground state estimation = {:.4f}\".format(x))"
   ]
  },
  {
   "cell_type": "code",
   "execution_count": 30,
   "metadata": {},
   "outputs": [
    {
     "name": "stdout",
     "output_type": "stream",
     "text": [
      "0.015064010347884568\n"
     ]
    }
   ],
   "source": [
    "tau = get_tau(H)\n",
    "print(tau)"
   ]
  },
  {
   "cell_type": "code",
   "execution_count": 34,
   "metadata": {},
   "outputs": [
    {
     "data": {
      "text/plain": [
       "-0.9799138213849811"
      ]
     },
     "execution_count": 34,
     "metadata": {},
     "output_type": "execute_result"
    }
   ],
   "source": [
    "x/tau"
   ]
  },
  {
   "cell_type": "code",
   "execution_count": 23,
   "metadata": {},
   "outputs": [
    {
     "name": "stderr",
     "output_type": "stream",
     "text": [
      "C:\\Users\\anjis\\AppData\\Local\\Packages\\PythonSoftwareFoundation.Python.3.9_qbz5n2kfra8p0\\LocalCache\\local-packages\\Python39\\site-packages\\pennylane\\ops\\functions\\eigvals.py:116: UserWarning: For Hamiltonians, the eigenvalues will be computed numerically. This may be computationally intensive for a large number of wires. Consider using a sparse representation of the Hamiltonian with qml.SparseHamiltonian.\n",
      "  warnings.warn(\n"
     ]
    },
    {
     "data": {
      "text/plain": [
       "array([-0.30558225, -0.04665377, -0.04665377,  0.10117702,  0.10117702,\n",
       "        0.10907332,  0.10907332,  0.10907332,  0.22100309,  0.42458866,\n",
       "        0.42458866,  0.46065132,  0.58227291,  0.58227291,  0.65331115,\n",
       "        0.76616636])"
      ]
     },
     "execution_count": 23,
     "metadata": {},
     "output_type": "execute_result"
    }
   ],
   "source": [
    "qml.eigvals(H, k=1) * tau"
   ]
  },
  {
   "cell_type": "code",
   "execution_count": 41,
   "metadata": {},
   "outputs": [],
   "source": [
    "pl, Pl = H.terms()"
   ]
  },
  {
   "cell_type": "code",
   "execution_count": 40,
   "metadata": {},
   "outputs": [
    {
     "name": "stdout",
     "output_type": "stream",
     "text": [
      "<Hamiltonian: terms=185, wires=[0, 1, 2, 3, 4, 5, 6, 7]>\n"
     ]
    }
   ],
   "source": [
    "qml.pauli_decompose(qml.matrix(H))"
   ]
  },
  {
   "cell_type": "code",
   "execution_count": 42,
   "metadata": {},
   "outputs": [
    {
     "data": {
      "text/plain": [
       "[5.660701961652629,\n",
       " 0.35489055458632535,\n",
       " -0.023928794454893043,\n",
       " -0.023928794454893043,\n",
       " 0.35489055458632557,\n",
       " -0.023928794454893022,\n",
       " -0.023928794454893022,\n",
       " 0.026103616833238863,\n",
       " -0.047560372196071427,\n",
       " -0.047560372196071427,\n",
       " 0.026103616833238922,\n",
       " -0.047560372196071454,\n",
       " -0.047560372196071454,\n",
       " -0.5595033074552554,\n",
       " -0.5595033074552553,\n",
       " -2.075887537804427,\n",
       " -2.075887537804427,\n",
       " 0.17825971934645382,\n",
       " 0.03223147063764242,\n",
       " 0.03223147063764242,\n",
       " 0.03512910977635857,\n",
       " -0.03512910977635857,\n",
       " -0.03512910977635857,\n",
       " 0.03512910977635857,\n",
       " 0.013885729213759149,\n",
       " 0.013885729213759149,\n",
       " 0.013885729213759149,\n",
       " 0.013885729213759149,\n",
       " 0.03223147063764242,\n",
       " 0.03223147063764242,\n",
       " 0.02832432169694898,\n",
       " -0.02832432169694898,\n",
       " -0.02832432169694898,\n",
       " 0.02832432169694898,\n",
       " -0.013885729213759149,\n",
       " 0.013885729213759149,\n",
       " 0.013885729213759149,\n",
       " -0.013885729213759149,\n",
       " 0.023669040149316867,\n",
       " -0.023669040149316867,\n",
       " -0.023669040149316867,\n",
       " 0.023669040149316867,\n",
       " 0.12024093896605229,\n",
       " 0.01791809945098066,\n",
       " 0.01791809945098066,\n",
       " 0.03390065062731087,\n",
       " 0.03390065062731087,\n",
       " 0.01886618530439435,\n",
       " 0.027849746394899053,\n",
       " 0.008983561090504707,\n",
       " 0.008983561090504707,\n",
       " 0.027849746394899053,\n",
       " 0.01886618530439435,\n",
       " 0.15537004874241084,\n",
       " 0.005906942670439536,\n",
       " 0.005906942670439536,\n",
       " 0.027993707956871325,\n",
       " 0.027993707956871325,\n",
       " 0.027993707956871325,\n",
       " 0.027993707956871325,\n",
       " -0.003959119266124334,\n",
       " -0.003959119266124334,\n",
       " -0.003959119266124334,\n",
       " -0.003959119266124334,\n",
       " 0.03180382866473981,\n",
       " 0.03180382866473981,\n",
       " 0.022825304570518685,\n",
       " -0.022825304570518685,\n",
       " -0.022825304570518685,\n",
       " 0.022825304570518685,\n",
       " 0.13994949237119603,\n",
       " 0.168273814068145,\n",
       " 0.020007188472506276,\n",
       " 0.020007188472506276,\n",
       " 0.031808865661023394,\n",
       " 0.031808865661023394,\n",
       " 0.031808865661023394,\n",
       " 0.031808865661023394,\n",
       " -0.01690639118829419,\n",
       " 0.01690639118829419,\n",
       " 0.01690639118829419,\n",
       " -0.01690639118829419,\n",
       " 0.18255551174673385,\n",
       " 0.02952713810757116,\n",
       " 0.02952713810757116,\n",
       " 0.2062245518960507,\n",
       " 0.04643352929586535,\n",
       " 0.04643352929586535,\n",
       " 0.15537004874241084,\n",
       " 0.005906942670439536,\n",
       " 0.005906942670439536,\n",
       " 0.027993707956871325,\n",
       " -0.027993707956871325,\n",
       " -0.027993707956871325,\n",
       " 0.027993707956871325,\n",
       " -0.003959119266124334,\n",
       " -0.003959119266124334,\n",
       " -0.003959119266124334,\n",
       " -0.003959119266124334,\n",
       " 0.03180382866473981,\n",
       " 0.03180382866473981,\n",
       " 0.022825304570518685,\n",
       " -0.022825304570518685,\n",
       " -0.022825304570518685,\n",
       " 0.022825304570518685,\n",
       " 0.12024093896605229,\n",
       " 0.01791809945098066,\n",
       " 0.01791809945098066,\n",
       " 0.03390065062731087,\n",
       " 0.03390065062731087,\n",
       " 0.01886618530439435,\n",
       " 0.027849746394899053,\n",
       " 0.008983561090504707,\n",
       " 0.008983561090504707,\n",
       " 0.027849746394899053,\n",
       " 0.01886618530439435,\n",
       " 0.168273814068145,\n",
       " 0.020007188472506276,\n",
       " 0.020007188472506276,\n",
       " 0.031808865661023394,\n",
       " 0.031808865661023394,\n",
       " 0.031808865661023394,\n",
       " 0.031808865661023394,\n",
       " 0.01690639118829419,\n",
       " 0.01690639118829419,\n",
       " 0.01690639118829419,\n",
       " 0.01690639118829419,\n",
       " 0.13994949237119603,\n",
       " 0.2062245518960507,\n",
       " 0.04643352929586535,\n",
       " 0.04643352929586535,\n",
       " 0.18255551174673385,\n",
       " 0.02952713810757116,\n",
       " 0.02952713810757116,\n",
       " 0.1600468535926347,\n",
       " 0.01159325611605468,\n",
       " 0.01159325611605468,\n",
       " 0.036394191834623696,\n",
       " -0.036394191834623696,\n",
       " -0.036394191834623696,\n",
       " 0.036394191834623696,\n",
       " 0.01159325611605468,\n",
       " 0.01159325611605468,\n",
       " 0.02486884543157664,\n",
       " -0.02486884543157664,\n",
       " -0.02486884543157664,\n",
       " 0.02486884543157664,\n",
       " 0.12504367822679585,\n",
       " 0.04224227942789468,\n",
       " 0.04224227942789468,\n",
       " 0.16143787006141952,\n",
       " 0.01736013585765628,\n",
       " 0.01736013585765628,\n",
       " 0.0248821435702384,\n",
       " 0.0248821435702384,\n",
       " 0.0248821435702384,\n",
       " 0.0248821435702384,\n",
       " 0.15369649419879633,\n",
       " 0.17856533963037297,\n",
       " 0.04927314864079318,\n",
       " 0.04927314864079318,\n",
       " 0.16143787006141952,\n",
       " 0.01736013585765628,\n",
       " 0.01736013585765628,\n",
       " 0.0248821435702384,\n",
       " -0.0248821435702384,\n",
       " -0.0248821435702384,\n",
       " 0.0248821435702384,\n",
       " 0.12504367822679585,\n",
       " 0.04224227942789468,\n",
       " 0.04224227942789468,\n",
       " 0.17856533963037297,\n",
       " 0.049273148640793185,\n",
       " 0.049273148640793185,\n",
       " 0.15369649419879633,\n",
       " 0.17730452797828028,\n",
       " 0.037152087739964174,\n",
       " -0.037152087739964174,\n",
       " -0.037152087739964174,\n",
       " 0.037152087739964174,\n",
       " 0.16435017875531788,\n",
       " 0.20150226649528202,\n",
       " 0.20150226649528202,\n",
       " 0.16435017875531788,\n",
       " 0.27391577083707463]"
      ]
     },
     "execution_count": 42,
     "metadata": {},
     "output_type": "execute_result"
    }
   ],
   "source": [
    "pl"
   ]
  },
  {
   "cell_type": "code",
   "execution_count": 43,
   "metadata": {},
   "outputs": [
    {
     "data": {
      "text/plain": [
       "[Identity(wires=[0]),\n",
       " PauliZ(wires=[0]),\n",
       " PauliY(wires=[0]) @ PauliZ(wires=[1]) @ PauliZ(wires=[2]) @ PauliZ(wires=[3]) @ PauliY(wires=[4]),\n",
       " PauliX(wires=[0]) @ PauliZ(wires=[1]) @ PauliZ(wires=[2]) @ PauliZ(wires=[3]) @ PauliX(wires=[4]),\n",
       " PauliZ(wires=[1]),\n",
       " PauliY(wires=[1]) @ PauliZ(wires=[2]) @ PauliZ(wires=[3]) @ PauliZ(wires=[4]) @ PauliY(wires=[5]),\n",
       " PauliX(wires=[1]) @ PauliZ(wires=[2]) @ PauliZ(wires=[3]) @ PauliZ(wires=[4]) @ PauliX(wires=[5]),\n",
       " PauliZ(wires=[2]),\n",
       " PauliY(wires=[2]) @ PauliZ(wires=[3]) @ PauliZ(wires=[4]) @ PauliZ(wires=[5]) @ PauliY(wires=[6]),\n",
       " PauliX(wires=[2]) @ PauliZ(wires=[3]) @ PauliZ(wires=[4]) @ PauliZ(wires=[5]) @ PauliX(wires=[6]),\n",
       " PauliZ(wires=[3]),\n",
       " PauliY(wires=[3]) @ PauliZ(wires=[4]) @ PauliZ(wires=[5]) @ PauliZ(wires=[6]) @ PauliY(wires=[7]),\n",
       " PauliX(wires=[3]) @ PauliZ(wires=[4]) @ PauliZ(wires=[5]) @ PauliZ(wires=[6]) @ PauliX(wires=[7]),\n",
       " PauliZ(wires=[4]),\n",
       " PauliZ(wires=[5]),\n",
       " PauliZ(wires=[6]),\n",
       " PauliZ(wires=[7]),\n",
       " PauliZ(wires=[0]) @ PauliZ(wires=[1]),\n",
       " PauliY(wires=[0]) @ PauliZ(wires=[2]) @ PauliZ(wires=[3]) @ PauliY(wires=[4]),\n",
       " PauliX(wires=[0]) @ PauliZ(wires=[2]) @ PauliZ(wires=[3]) @ PauliX(wires=[4]),\n",
       " PauliY(wires=[0]) @ PauliX(wires=[1]) @ PauliX(wires=[2]) @ PauliY(wires=[3]),\n",
       " PauliY(wires=[0]) @ PauliY(wires=[1]) @ PauliX(wires=[2]) @ PauliX(wires=[3]),\n",
       " PauliX(wires=[0]) @ PauliX(wires=[1]) @ PauliY(wires=[2]) @ PauliY(wires=[3]),\n",
       " PauliX(wires=[0]) @ PauliY(wires=[1]) @ PauliY(wires=[2]) @ PauliX(wires=[3]),\n",
       " PauliY(wires=[0]) @ PauliX(wires=[1]) @ PauliX(wires=[3]) @ PauliZ(wires=[4]) @ PauliZ(wires=[5]) @ PauliY(wires=[6]),\n",
       " PauliY(wires=[0]) @ PauliY(wires=[1]) @ PauliY(wires=[3]) @ PauliZ(wires=[4]) @ PauliZ(wires=[5]) @ PauliY(wires=[6]),\n",
       " PauliX(wires=[0]) @ PauliX(wires=[1]) @ PauliX(wires=[3]) @ PauliZ(wires=[4]) @ PauliZ(wires=[5]) @ PauliX(wires=[6]),\n",
       " PauliX(wires=[0]) @ PauliY(wires=[1]) @ PauliY(wires=[3]) @ PauliZ(wires=[4]) @ PauliZ(wires=[5]) @ PauliX(wires=[6]),\n",
       " PauliZ(wires=[0]) @ PauliY(wires=[1]) @ PauliZ(wires=[2]) @ PauliZ(wires=[3]) @ PauliZ(wires=[4]) @ PauliY(wires=[5]),\n",
       " PauliZ(wires=[0]) @ PauliX(wires=[1]) @ PauliZ(wires=[2]) @ PauliZ(wires=[3]) @ PauliZ(wires=[4]) @ PauliX(wires=[5]),\n",
       " PauliY(wires=[0]) @ PauliX(wires=[1]) @ PauliX(wires=[4]) @ PauliY(wires=[5]),\n",
       " PauliY(wires=[0]) @ PauliY(wires=[1]) @ PauliX(wires=[4]) @ PauliX(wires=[5]),\n",
       " PauliX(wires=[0]) @ PauliX(wires=[1]) @ PauliY(wires=[4]) @ PauliY(wires=[5]),\n",
       " PauliX(wires=[0]) @ PauliY(wires=[1]) @ PauliY(wires=[4]) @ PauliX(wires=[5]),\n",
       " PauliY(wires=[0]) @ PauliX(wires=[1]) @ PauliX(wires=[2]) @ PauliZ(wires=[3]) @ PauliZ(wires=[4]) @ PauliZ(wires=[5]) @ PauliZ(wires=[6]) @ PauliY(wires=[7]),\n",
       " PauliY(wires=[0]) @ PauliY(wires=[1]) @ PauliX(wires=[2]) @ PauliZ(wires=[3]) @ PauliZ(wires=[4]) @ PauliZ(wires=[5]) @ PauliZ(wires=[6]) @ PauliX(wires=[7]),\n",
       " PauliX(wires=[0]) @ PauliX(wires=[1]) @ PauliY(wires=[2]) @ PauliZ(wires=[3]) @ PauliZ(wires=[4]) @ PauliZ(wires=[5]) @ PauliZ(wires=[6]) @ PauliY(wires=[7]),\n",
       " PauliX(wires=[0]) @ PauliY(wires=[1]) @ PauliY(wires=[2]) @ PauliZ(wires=[3]) @ PauliZ(wires=[4]) @ PauliZ(wires=[5]) @ PauliZ(wires=[6]) @ PauliX(wires=[7]),\n",
       " PauliY(wires=[0]) @ PauliX(wires=[1]) @ PauliX(wires=[6]) @ PauliY(wires=[7]),\n",
       " PauliY(wires=[0]) @ PauliY(wires=[1]) @ PauliX(wires=[6]) @ PauliX(wires=[7]),\n",
       " PauliX(wires=[0]) @ PauliX(wires=[1]) @ PauliY(wires=[6]) @ PauliY(wires=[7]),\n",
       " PauliX(wires=[0]) @ PauliY(wires=[1]) @ PauliY(wires=[6]) @ PauliX(wires=[7]),\n",
       " PauliZ(wires=[0]) @ PauliZ(wires=[2]),\n",
       " PauliZ(wires=[0]) @ PauliY(wires=[2]) @ PauliZ(wires=[3]) @ PauliZ(wires=[4]) @ PauliZ(wires=[5]) @ PauliY(wires=[6]),\n",
       " PauliZ(wires=[0]) @ PauliX(wires=[2]) @ PauliZ(wires=[3]) @ PauliZ(wires=[4]) @ PauliZ(wires=[5]) @ PauliX(wires=[6]),\n",
       " PauliY(wires=[0]) @ PauliZ(wires=[1]) @ PauliZ(wires=[3]) @ PauliY(wires=[4]),\n",
       " PauliX(wires=[0]) @ PauliZ(wires=[1]) @ PauliZ(wires=[3]) @ PauliX(wires=[4]),\n",
       " PauliY(wires=[0]) @ PauliZ(wires=[1]) @ PauliX(wires=[2]) @ PauliX(wires=[4]) @ PauliZ(wires=[5]) @ PauliY(wires=[6]),\n",
       " PauliY(wires=[0]) @ PauliZ(wires=[1]) @ PauliY(wires=[2]) @ PauliY(wires=[4]) @ PauliZ(wires=[5]) @ PauliY(wires=[6]),\n",
       " PauliY(wires=[0]) @ PauliZ(wires=[1]) @ PauliY(wires=[2]) @ PauliX(wires=[4]) @ PauliZ(wires=[5]) @ PauliX(wires=[6]),\n",
       " PauliX(wires=[0]) @ PauliZ(wires=[1]) @ PauliX(wires=[2]) @ PauliY(wires=[4]) @ PauliZ(wires=[5]) @ PauliY(wires=[6]),\n",
       " PauliX(wires=[0]) @ PauliZ(wires=[1]) @ PauliX(wires=[2]) @ PauliX(wires=[4]) @ PauliZ(wires=[5]) @ PauliX(wires=[6]),\n",
       " PauliX(wires=[0]) @ PauliZ(wires=[1]) @ PauliY(wires=[2]) @ PauliY(wires=[4]) @ PauliZ(wires=[5]) @ PauliX(wires=[6]),\n",
       " PauliZ(wires=[0]) @ PauliZ(wires=[3]),\n",
       " PauliY(wires=[0]) @ PauliZ(wires=[1]) @ PauliZ(wires=[2]) @ PauliY(wires=[4]),\n",
       " PauliX(wires=[0]) @ PauliZ(wires=[1]) @ PauliZ(wires=[2]) @ PauliX(wires=[4]),\n",
       " PauliY(wires=[0]) @ PauliZ(wires=[1]) @ PauliY(wires=[2]) @ PauliY(wires=[3]) @ PauliZ(wires=[4]) @ PauliY(wires=[5]),\n",
       " PauliY(wires=[0]) @ PauliZ(wires=[1]) @ PauliY(wires=[2]) @ PauliX(wires=[3]) @ PauliZ(wires=[4]) @ PauliX(wires=[5]),\n",
       " PauliX(wires=[0]) @ PauliZ(wires=[1]) @ PauliX(wires=[2]) @ PauliY(wires=[3]) @ PauliZ(wires=[4]) @ PauliY(wires=[5]),\n",
       " PauliX(wires=[0]) @ PauliZ(wires=[1]) @ PauliX(wires=[2]) @ PauliX(wires=[3]) @ PauliZ(wires=[4]) @ PauliX(wires=[5]),\n",
       " PauliY(wires=[0]) @ PauliZ(wires=[1]) @ PauliZ(wires=[2]) @ PauliX(wires=[3]) @ PauliX(wires=[5]) @ PauliY(wires=[6]),\n",
       " PauliY(wires=[0]) @ PauliZ(wires=[1]) @ PauliZ(wires=[2]) @ PauliY(wires=[3]) @ PauliY(wires=[5]) @ PauliY(wires=[6]),\n",
       " PauliX(wires=[0]) @ PauliZ(wires=[1]) @ PauliZ(wires=[2]) @ PauliX(wires=[3]) @ PauliX(wires=[5]) @ PauliX(wires=[6]),\n",
       " PauliX(wires=[0]) @ PauliZ(wires=[1]) @ PauliZ(wires=[2]) @ PauliY(wires=[3]) @ PauliY(wires=[5]) @ PauliX(wires=[6]),\n",
       " PauliZ(wires=[0]) @ PauliY(wires=[3]) @ PauliZ(wires=[4]) @ PauliZ(wires=[5]) @ PauliZ(wires=[6]) @ PauliY(wires=[7]),\n",
       " PauliZ(wires=[0]) @ PauliX(wires=[3]) @ PauliZ(wires=[4]) @ PauliZ(wires=[5]) @ PauliZ(wires=[6]) @ PauliX(wires=[7]),\n",
       " PauliY(wires=[0]) @ PauliZ(wires=[1]) @ PauliZ(wires=[2]) @ PauliX(wires=[3]) @ PauliX(wires=[4]) @ PauliZ(wires=[5]) @ PauliZ(wires=[6]) @ PauliY(wires=[7]),\n",
       " PauliY(wires=[0]) @ PauliZ(wires=[1]) @ PauliZ(wires=[2]) @ PauliY(wires=[3]) @ PauliX(wires=[4]) @ PauliZ(wires=[5]) @ PauliZ(wires=[6]) @ PauliX(wires=[7]),\n",
       " PauliX(wires=[0]) @ PauliZ(wires=[1]) @ PauliZ(wires=[2]) @ PauliX(wires=[3]) @ PauliY(wires=[4]) @ PauliZ(wires=[5]) @ PauliZ(wires=[6]) @ PauliY(wires=[7]),\n",
       " PauliX(wires=[0]) @ PauliZ(wires=[1]) @ PauliZ(wires=[2]) @ PauliY(wires=[3]) @ PauliY(wires=[4]) @ PauliZ(wires=[5]) @ PauliZ(wires=[6]) @ PauliX(wires=[7]),\n",
       " PauliZ(wires=[0]) @ PauliZ(wires=[4]),\n",
       " PauliZ(wires=[0]) @ PauliZ(wires=[5]),\n",
       " PauliY(wires=[0]) @ PauliZ(wires=[1]) @ PauliZ(wires=[2]) @ PauliZ(wires=[3]) @ PauliY(wires=[4]) @ PauliZ(wires=[5]),\n",
       " PauliX(wires=[0]) @ PauliZ(wires=[1]) @ PauliZ(wires=[2]) @ PauliZ(wires=[3]) @ PauliX(wires=[4]) @ PauliZ(wires=[5]),\n",
       " PauliY(wires=[0]) @ PauliZ(wires=[1]) @ PauliY(wires=[2]) @ PauliY(wires=[5]) @ PauliZ(wires=[6]) @ PauliY(wires=[7]),\n",
       " PauliY(wires=[0]) @ PauliZ(wires=[1]) @ PauliY(wires=[2]) @ PauliX(wires=[5]) @ PauliZ(wires=[6]) @ PauliX(wires=[7]),\n",
       " PauliX(wires=[0]) @ PauliZ(wires=[1]) @ PauliX(wires=[2]) @ PauliY(wires=[5]) @ PauliZ(wires=[6]) @ PauliY(wires=[7]),\n",
       " PauliX(wires=[0]) @ PauliZ(wires=[1]) @ PauliX(wires=[2]) @ PauliX(wires=[5]) @ PauliZ(wires=[6]) @ PauliX(wires=[7]),\n",
       " PauliY(wires=[0]) @ PauliZ(wires=[1]) @ PauliZ(wires=[2]) @ PauliZ(wires=[3]) @ PauliZ(wires=[4]) @ PauliX(wires=[5]) @ PauliX(wires=[6]) @ PauliY(wires=[7]),\n",
       " PauliY(wires=[0]) @ PauliZ(wires=[1]) @ PauliZ(wires=[2]) @ PauliZ(wires=[3]) @ PauliZ(wires=[4]) @ PauliY(wires=[5]) @ PauliX(wires=[6]) @ PauliX(wires=[7]),\n",
       " PauliX(wires=[0]) @ PauliZ(wires=[1]) @ PauliZ(wires=[2]) @ PauliZ(wires=[3]) @ PauliZ(wires=[4]) @ PauliX(wires=[5]) @ PauliY(wires=[6]) @ PauliY(wires=[7]),\n",
       " PauliX(wires=[0]) @ PauliZ(wires=[1]) @ PauliZ(wires=[2]) @ PauliZ(wires=[3]) @ PauliZ(wires=[4]) @ PauliY(wires=[5]) @ PauliY(wires=[6]) @ PauliX(wires=[7]),\n",
       " PauliZ(wires=[0]) @ PauliZ(wires=[6]),\n",
       " PauliY(wires=[0]) @ PauliZ(wires=[1]) @ PauliZ(wires=[2]) @ PauliZ(wires=[3]) @ PauliY(wires=[4]) @ PauliZ(wires=[6]),\n",
       " PauliX(wires=[0]) @ PauliZ(wires=[1]) @ PauliZ(wires=[2]) @ PauliZ(wires=[3]) @ PauliX(wires=[4]) @ PauliZ(wires=[6]),\n",
       " PauliZ(wires=[0]) @ PauliZ(wires=[7]),\n",
       " PauliY(wires=[0]) @ PauliZ(wires=[1]) @ PauliZ(wires=[2]) @ PauliZ(wires=[3]) @ PauliY(wires=[4]) @ PauliZ(wires=[7]),\n",
       " PauliX(wires=[0]) @ PauliZ(wires=[1]) @ PauliZ(wires=[2]) @ PauliZ(wires=[3]) @ PauliX(wires=[4]) @ PauliZ(wires=[7]),\n",
       " PauliZ(wires=[1]) @ PauliZ(wires=[2]),\n",
       " PauliY(wires=[1]) @ PauliZ(wires=[3]) @ PauliZ(wires=[4]) @ PauliY(wires=[5]),\n",
       " PauliX(wires=[1]) @ PauliZ(wires=[3]) @ PauliZ(wires=[4]) @ PauliX(wires=[5]),\n",
       " PauliY(wires=[1]) @ PauliX(wires=[2]) @ PauliX(wires=[3]) @ PauliY(wires=[4]),\n",
       " PauliY(wires=[1]) @ PauliY(wires=[2]) @ PauliX(wires=[3]) @ PauliX(wires=[4]),\n",
       " PauliX(wires=[1]) @ PauliX(wires=[2]) @ PauliY(wires=[3]) @ PauliY(wires=[4]),\n",
       " PauliX(wires=[1]) @ PauliY(wires=[2]) @ PauliY(wires=[3]) @ PauliX(wires=[4]),\n",
       " PauliY(wires=[1]) @ PauliX(wires=[2]) @ PauliX(wires=[4]) @ PauliZ(wires=[5]) @ PauliZ(wires=[6]) @ PauliY(wires=[7]),\n",
       " PauliY(wires=[1]) @ PauliY(wires=[2]) @ PauliY(wires=[4]) @ PauliZ(wires=[5]) @ PauliZ(wires=[6]) @ PauliY(wires=[7]),\n",
       " PauliX(wires=[1]) @ PauliX(wires=[2]) @ PauliX(wires=[4]) @ PauliZ(wires=[5]) @ PauliZ(wires=[6]) @ PauliX(wires=[7]),\n",
       " PauliX(wires=[1]) @ PauliY(wires=[2]) @ PauliY(wires=[4]) @ PauliZ(wires=[5]) @ PauliZ(wires=[6]) @ PauliX(wires=[7]),\n",
       " PauliZ(wires=[1]) @ PauliY(wires=[2]) @ PauliZ(wires=[3]) @ PauliZ(wires=[4]) @ PauliZ(wires=[5]) @ PauliY(wires=[6]),\n",
       " PauliZ(wires=[1]) @ PauliX(wires=[2]) @ PauliZ(wires=[3]) @ PauliZ(wires=[4]) @ PauliZ(wires=[5]) @ PauliX(wires=[6]),\n",
       " PauliY(wires=[1]) @ PauliX(wires=[2]) @ PauliX(wires=[5]) @ PauliY(wires=[6]),\n",
       " PauliY(wires=[1]) @ PauliY(wires=[2]) @ PauliX(wires=[5]) @ PauliX(wires=[6]),\n",
       " PauliX(wires=[1]) @ PauliX(wires=[2]) @ PauliY(wires=[5]) @ PauliY(wires=[6]),\n",
       " PauliX(wires=[1]) @ PauliY(wires=[2]) @ PauliY(wires=[5]) @ PauliX(wires=[6]),\n",
       " PauliZ(wires=[1]) @ PauliZ(wires=[3]),\n",
       " PauliZ(wires=[1]) @ PauliY(wires=[3]) @ PauliZ(wires=[4]) @ PauliZ(wires=[5]) @ PauliZ(wires=[6]) @ PauliY(wires=[7]),\n",
       " PauliZ(wires=[1]) @ PauliX(wires=[3]) @ PauliZ(wires=[4]) @ PauliZ(wires=[5]) @ PauliZ(wires=[6]) @ PauliX(wires=[7]),\n",
       " PauliY(wires=[1]) @ PauliZ(wires=[2]) @ PauliZ(wires=[4]) @ PauliY(wires=[5]),\n",
       " PauliX(wires=[1]) @ PauliZ(wires=[2]) @ PauliZ(wires=[4]) @ PauliX(wires=[5]),\n",
       " PauliY(wires=[1]) @ PauliZ(wires=[2]) @ PauliX(wires=[3]) @ PauliX(wires=[5]) @ PauliZ(wires=[6]) @ PauliY(wires=[7]),\n",
       " PauliY(wires=[1]) @ PauliZ(wires=[2]) @ PauliY(wires=[3]) @ PauliY(wires=[5]) @ PauliZ(wires=[6]) @ PauliY(wires=[7]),\n",
       " PauliY(wires=[1]) @ PauliZ(wires=[2]) @ PauliY(wires=[3]) @ PauliX(wires=[5]) @ PauliZ(wires=[6]) @ PauliX(wires=[7]),\n",
       " PauliX(wires=[1]) @ PauliZ(wires=[2]) @ PauliX(wires=[3]) @ PauliY(wires=[5]) @ PauliZ(wires=[6]) @ PauliY(wires=[7]),\n",
       " PauliX(wires=[1]) @ PauliZ(wires=[2]) @ PauliX(wires=[3]) @ PauliX(wires=[5]) @ PauliZ(wires=[6]) @ PauliX(wires=[7]),\n",
       " PauliX(wires=[1]) @ PauliZ(wires=[2]) @ PauliY(wires=[3]) @ PauliY(wires=[5]) @ PauliZ(wires=[6]) @ PauliX(wires=[7]),\n",
       " PauliZ(wires=[1]) @ PauliZ(wires=[4]),\n",
       " PauliY(wires=[1]) @ PauliZ(wires=[2]) @ PauliZ(wires=[3]) @ PauliY(wires=[5]),\n",
       " PauliX(wires=[1]) @ PauliZ(wires=[2]) @ PauliZ(wires=[3]) @ PauliX(wires=[5]),\n",
       " PauliY(wires=[1]) @ PauliZ(wires=[2]) @ PauliY(wires=[3]) @ PauliY(wires=[4]) @ PauliZ(wires=[5]) @ PauliY(wires=[6]),\n",
       " PauliY(wires=[1]) @ PauliZ(wires=[2]) @ PauliY(wires=[3]) @ PauliX(wires=[4]) @ PauliZ(wires=[5]) @ PauliX(wires=[6]),\n",
       " PauliX(wires=[1]) @ PauliZ(wires=[2]) @ PauliX(wires=[3]) @ PauliY(wires=[4]) @ PauliZ(wires=[5]) @ PauliY(wires=[6]),\n",
       " PauliX(wires=[1]) @ PauliZ(wires=[2]) @ PauliX(wires=[3]) @ PauliX(wires=[4]) @ PauliZ(wires=[5]) @ PauliX(wires=[6]),\n",
       " PauliY(wires=[1]) @ PauliZ(wires=[2]) @ PauliZ(wires=[3]) @ PauliX(wires=[4]) @ PauliX(wires=[6]) @ PauliY(wires=[7]),\n",
       " PauliY(wires=[1]) @ PauliZ(wires=[2]) @ PauliZ(wires=[3]) @ PauliY(wires=[4]) @ PauliY(wires=[6]) @ PauliY(wires=[7]),\n",
       " PauliX(wires=[1]) @ PauliZ(wires=[2]) @ PauliZ(wires=[3]) @ PauliX(wires=[4]) @ PauliX(wires=[6]) @ PauliX(wires=[7]),\n",
       " PauliX(wires=[1]) @ PauliZ(wires=[2]) @ PauliZ(wires=[3]) @ PauliY(wires=[4]) @ PauliY(wires=[6]) @ PauliX(wires=[7]),\n",
       " PauliZ(wires=[1]) @ PauliZ(wires=[5]),\n",
       " PauliZ(wires=[1]) @ PauliZ(wires=[6]),\n",
       " PauliY(wires=[1]) @ PauliZ(wires=[2]) @ PauliZ(wires=[3]) @ PauliZ(wires=[4]) @ PauliY(wires=[5]) @ PauliZ(wires=[6]),\n",
       " PauliX(wires=[1]) @ PauliZ(wires=[2]) @ PauliZ(wires=[3]) @ PauliZ(wires=[4]) @ PauliX(wires=[5]) @ PauliZ(wires=[6]),\n",
       " PauliZ(wires=[1]) @ PauliZ(wires=[7]),\n",
       " PauliY(wires=[1]) @ PauliZ(wires=[2]) @ PauliZ(wires=[3]) @ PauliZ(wires=[4]) @ PauliY(wires=[5]) @ PauliZ(wires=[7]),\n",
       " PauliX(wires=[1]) @ PauliZ(wires=[2]) @ PauliZ(wires=[3]) @ PauliZ(wires=[4]) @ PauliX(wires=[5]) @ PauliZ(wires=[7]),\n",
       " PauliZ(wires=[2]) @ PauliZ(wires=[3]),\n",
       " PauliY(wires=[2]) @ PauliZ(wires=[4]) @ PauliZ(wires=[5]) @ PauliY(wires=[6]),\n",
       " PauliX(wires=[2]) @ PauliZ(wires=[4]) @ PauliZ(wires=[5]) @ PauliX(wires=[6]),\n",
       " PauliY(wires=[2]) @ PauliX(wires=[3]) @ PauliX(wires=[4]) @ PauliY(wires=[5]),\n",
       " PauliY(wires=[2]) @ PauliY(wires=[3]) @ PauliX(wires=[4]) @ PauliX(wires=[5]),\n",
       " PauliX(wires=[2]) @ PauliX(wires=[3]) @ PauliY(wires=[4]) @ PauliY(wires=[5]),\n",
       " PauliX(wires=[2]) @ PauliY(wires=[3]) @ PauliY(wires=[4]) @ PauliX(wires=[5]),\n",
       " PauliZ(wires=[2]) @ PauliY(wires=[3]) @ PauliZ(wires=[4]) @ PauliZ(wires=[5]) @ PauliZ(wires=[6]) @ PauliY(wires=[7]),\n",
       " PauliZ(wires=[2]) @ PauliX(wires=[3]) @ PauliZ(wires=[4]) @ PauliZ(wires=[5]) @ PauliZ(wires=[6]) @ PauliX(wires=[7]),\n",
       " PauliY(wires=[2]) @ PauliX(wires=[3]) @ PauliX(wires=[6]) @ PauliY(wires=[7]),\n",
       " PauliY(wires=[2]) @ PauliY(wires=[3]) @ PauliX(wires=[6]) @ PauliX(wires=[7]),\n",
       " PauliX(wires=[2]) @ PauliX(wires=[3]) @ PauliY(wires=[6]) @ PauliY(wires=[7]),\n",
       " PauliX(wires=[2]) @ PauliY(wires=[3]) @ PauliY(wires=[6]) @ PauliX(wires=[7]),\n",
       " PauliZ(wires=[2]) @ PauliZ(wires=[4]),\n",
       " PauliY(wires=[2]) @ PauliZ(wires=[3]) @ PauliZ(wires=[5]) @ PauliY(wires=[6]),\n",
       " PauliX(wires=[2]) @ PauliZ(wires=[3]) @ PauliZ(wires=[5]) @ PauliX(wires=[6]),\n",
       " PauliZ(wires=[2]) @ PauliZ(wires=[5]),\n",
       " PauliY(wires=[2]) @ PauliZ(wires=[3]) @ PauliZ(wires=[4]) @ PauliY(wires=[6]),\n",
       " PauliX(wires=[2]) @ PauliZ(wires=[3]) @ PauliZ(wires=[4]) @ PauliX(wires=[6]),\n",
       " PauliY(wires=[2]) @ PauliZ(wires=[3]) @ PauliY(wires=[4]) @ PauliY(wires=[5]) @ PauliZ(wires=[6]) @ PauliY(wires=[7]),\n",
       " PauliY(wires=[2]) @ PauliZ(wires=[3]) @ PauliY(wires=[4]) @ PauliX(wires=[5]) @ PauliZ(wires=[6]) @ PauliX(wires=[7]),\n",
       " PauliX(wires=[2]) @ PauliZ(wires=[3]) @ PauliX(wires=[4]) @ PauliY(wires=[5]) @ PauliZ(wires=[6]) @ PauliY(wires=[7]),\n",
       " PauliX(wires=[2]) @ PauliZ(wires=[3]) @ PauliX(wires=[4]) @ PauliX(wires=[5]) @ PauliZ(wires=[6]) @ PauliX(wires=[7]),\n",
       " PauliZ(wires=[2]) @ PauliZ(wires=[6]),\n",
       " PauliZ(wires=[2]) @ PauliZ(wires=[7]),\n",
       " PauliY(wires=[2]) @ PauliZ(wires=[3]) @ PauliZ(wires=[4]) @ PauliZ(wires=[5]) @ PauliY(wires=[6]) @ PauliZ(wires=[7]),\n",
       " PauliX(wires=[2]) @ PauliZ(wires=[3]) @ PauliZ(wires=[4]) @ PauliZ(wires=[5]) @ PauliX(wires=[6]) @ PauliZ(wires=[7]),\n",
       " PauliZ(wires=[3]) @ PauliZ(wires=[4]),\n",
       " PauliY(wires=[3]) @ PauliZ(wires=[5]) @ PauliZ(wires=[6]) @ PauliY(wires=[7]),\n",
       " PauliX(wires=[3]) @ PauliZ(wires=[5]) @ PauliZ(wires=[6]) @ PauliX(wires=[7]),\n",
       " PauliY(wires=[3]) @ PauliX(wires=[4]) @ PauliX(wires=[5]) @ PauliY(wires=[6]),\n",
       " PauliY(wires=[3]) @ PauliY(wires=[4]) @ PauliX(wires=[5]) @ PauliX(wires=[6]),\n",
       " PauliX(wires=[3]) @ PauliX(wires=[4]) @ PauliY(wires=[5]) @ PauliY(wires=[6]),\n",
       " PauliX(wires=[3]) @ PauliY(wires=[4]) @ PauliY(wires=[5]) @ PauliX(wires=[6]),\n",
       " PauliZ(wires=[3]) @ PauliZ(wires=[5]),\n",
       " PauliY(wires=[3]) @ PauliZ(wires=[4]) @ PauliZ(wires=[6]) @ PauliY(wires=[7]),\n",
       " PauliX(wires=[3]) @ PauliZ(wires=[4]) @ PauliZ(wires=[6]) @ PauliX(wires=[7]),\n",
       " PauliZ(wires=[3]) @ PauliZ(wires=[6]),\n",
       " PauliY(wires=[3]) @ PauliZ(wires=[4]) @ PauliZ(wires=[5]) @ PauliY(wires=[7]),\n",
       " PauliX(wires=[3]) @ PauliZ(wires=[4]) @ PauliZ(wires=[5]) @ PauliX(wires=[7]),\n",
       " PauliZ(wires=[3]) @ PauliZ(wires=[7]),\n",
       " PauliZ(wires=[4]) @ PauliZ(wires=[5]),\n",
       " PauliY(wires=[4]) @ PauliX(wires=[5]) @ PauliX(wires=[6]) @ PauliY(wires=[7]),\n",
       " PauliY(wires=[4]) @ PauliY(wires=[5]) @ PauliX(wires=[6]) @ PauliX(wires=[7]),\n",
       " PauliX(wires=[4]) @ PauliX(wires=[5]) @ PauliY(wires=[6]) @ PauliY(wires=[7]),\n",
       " PauliX(wires=[4]) @ PauliY(wires=[5]) @ PauliY(wires=[6]) @ PauliX(wires=[7]),\n",
       " PauliZ(wires=[4]) @ PauliZ(wires=[6]),\n",
       " PauliZ(wires=[4]) @ PauliZ(wires=[7]),\n",
       " PauliZ(wires=[5]) @ PauliZ(wires=[6]),\n",
       " PauliZ(wires=[5]) @ PauliZ(wires=[7]),\n",
       " PauliZ(wires=[6]) @ PauliZ(wires=[7])]"
      ]
     },
     "execution_count": 43,
     "metadata": {},
     "output_type": "execute_result"
    }
   ],
   "source": [
    "Pl"
   ]
  },
  {
   "cell_type": "code",
   "execution_count": 46,
   "metadata": {},
   "outputs": [
    {
     "data": {
      "text/plain": [
       "20.139205024653414"
      ]
     },
     "execution_count": 46,
     "metadata": {},
     "output_type": "execute_result"
    }
   ],
   "source": [
    "float(sum(np.abs(pl)))"
   ]
  },
  {
   "cell_type": "code",
   "execution_count": null,
   "metadata": {},
   "outputs": [],
   "source": []
  },
  {
   "cell_type": "code",
   "execution_count": null,
   "metadata": {},
   "outputs": [],
   "source": []
  },
  {
   "cell_type": "markdown",
   "metadata": {},
   "source": []
  }
 ],
 "metadata": {
  "kernelspec": {
   "display_name": "Python 3",
   "language": "python",
   "name": "python3"
  },
  "language_info": {
   "codemirror_mode": {
    "name": "ipython",
    "version": 3
   },
   "file_extension": ".py",
   "mimetype": "text/x-python",
   "name": "python",
   "nbconvert_exporter": "python",
   "pygments_lexer": "ipython3",
   "version": "3.9.13"
  }
 },
 "nbformat": 4,
 "nbformat_minor": 2
}
